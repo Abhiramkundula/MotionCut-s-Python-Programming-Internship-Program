{
 "cells": [
  {
   "cell_type": "code",
   "execution_count": 4,
   "id": "7b8d7ef4-6a44-41e5-8967-341c86de121a",
   "metadata": {},
   "outputs": [
    {
     "name": "stdout",
     "output_type": "stream",
     "text": [
      "Question 1/13: What is the capital of France?\n",
      "1. Paris\n",
      "2. London\n",
      "3. Berlin\n",
      "4. Madrid\n"
     ]
    },
    {
     "name": "stdin",
     "output_type": "stream",
     "text": [
      "Enter your answer (number) or 'q' to quit:  1\n"
     ]
    },
    {
     "name": "stdout",
     "output_type": "stream",
     "text": [
      "Correct!\n",
      "\n",
      "Question 2/13: What is the largest ocean on Earth?\n",
      "1. Atlantic Ocean\n",
      "2. Indian Ocean\n",
      "3. Arctic Ocean\n",
      "4. Pacific Ocean\n"
     ]
    },
    {
     "name": "stdin",
     "output_type": "stream",
     "text": [
      "Enter your answer (number) or 'q' to quit:  4\n"
     ]
    },
    {
     "name": "stdout",
     "output_type": "stream",
     "text": [
      "Correct!\n",
      "\n",
      "Question 3/13: What is the smallest planet in our solar system?\n",
      "1. Earth\n",
      "2. Jupiter\n",
      "3. Mercury\n",
      "4. Venus\n"
     ]
    },
    {
     "name": "stdin",
     "output_type": "stream",
     "text": [
      "Enter your answer (number) or 'q' to quit:  3\n"
     ]
    },
    {
     "name": "stdout",
     "output_type": "stream",
     "text": [
      "Correct!\n",
      "\n",
      "Question 4/13: What is the highest mountain in the world?\n",
      "1. K2\n",
      "2. Kangchenjunga\n",
      "3. Mount Everest\n",
      "4. Lhotse\n"
     ]
    },
    {
     "name": "stdin",
     "output_type": "stream",
     "text": [
      "Enter your answer (number) or 'q' to quit:  3\n"
     ]
    },
    {
     "name": "stdout",
     "output_type": "stream",
     "text": [
      "Correct!\n",
      "\n",
      "Question 5/13: Who painted the Mona Lisa?\n",
      "1. Michelangelo\n",
      "2. Pablo Picasso\n",
      "3. Leonardo da Vinci\n",
      "4. Vincent van Gogh\n"
     ]
    },
    {
     "name": "stdin",
     "output_type": "stream",
     "text": [
      "Enter your answer (number) or 'q' to quit:  3\n"
     ]
    },
    {
     "name": "stdout",
     "output_type": "stream",
     "text": [
      "Correct!\n",
      "\n",
      "Question 6/13: What is the currency of Japan?\n",
      "1. Euro\n",
      "2. Yen\n",
      "3. Dollar\n",
      "4. Pound\n"
     ]
    },
    {
     "name": "stdin",
     "output_type": "stream",
     "text": [
      "Enter your answer (number) or 'q' to quit:  2\n"
     ]
    },
    {
     "name": "stdout",
     "output_type": "stream",
     "text": [
      "Correct!\n",
      "\n",
      "Question 7/13: What is the chemical symbol for water?\n",
      "1. O2\n",
      "2. CO2\n",
      "3. H2O\n",
      "4. NaCl\n"
     ]
    },
    {
     "name": "stdin",
     "output_type": "stream",
     "text": [
      "Enter your answer (number) or 'q' to quit:  3\n"
     ]
    },
    {
     "name": "stdout",
     "output_type": "stream",
     "text": [
      "Correct!\n",
      "\n",
      "Question 8/13: Which animal is known as the 'King of the Jungle'?\n",
      "1. Tiger\n",
      "2. Elephant\n",
      "3. Lion\n",
      "4. Gorilla\n"
     ]
    },
    {
     "name": "stdin",
     "output_type": "stream",
     "text": [
      "Enter your answer (number) or 'q' to quit:  3\n"
     ]
    },
    {
     "name": "stdout",
     "output_type": "stream",
     "text": [
      "Correct!\n",
      "\n",
      "Question 9/13: Who wrote the famous play 'Hamlet'?\n",
      "1. Charles Dickens\n",
      "2. William Shakespeare\n",
      "3. Edgar Allan Poe\n",
      "4. Jane Austen\n"
     ]
    },
    {
     "name": "stdin",
     "output_type": "stream",
     "text": [
      "Enter your answer (number) or 'q' to quit:  2\n"
     ]
    },
    {
     "name": "stdout",
     "output_type": "stream",
     "text": [
      "Correct!\n",
      "\n",
      "Question 10/13: In what year did World War II begin?\n",
      "1. 1914\n",
      "2. 1918\n",
      "3. 1939\n",
      "4. 1945\n"
     ]
    },
    {
     "name": "stdin",
     "output_type": "stream",
     "text": [
      "Enter your answer (number) or 'q' to quit:  3\n"
     ]
    },
    {
     "name": "stdout",
     "output_type": "stream",
     "text": [
      "Correct!\n",
      "\n",
      "Question 11/13: What is the name of the largest desert in the world?\n",
      "1. Gobi Desert\n",
      "2. Kalahari Desert\n",
      "3. Sahara Desert\n",
      "4. Arabian Desert\n"
     ]
    },
    {
     "name": "stdin",
     "output_type": "stream",
     "text": [
      "Enter your answer (number) or 'q' to quit:  3\n"
     ]
    },
    {
     "name": "stdout",
     "output_type": "stream",
     "text": [
      "Correct!\n",
      "\n",
      "Question 12/13: How many days are there in a regular year?\n",
      "1. 360\n",
      "2. 365\n",
      "3. 366\n",
      "4. 350\n"
     ]
    },
    {
     "name": "stdin",
     "output_type": "stream",
     "text": [
      "Enter your answer (number) or 'q' to quit:  2\n"
     ]
    },
    {
     "name": "stdout",
     "output_type": "stream",
     "text": [
      "Correct!\n",
      "\n",
      "Question 13/13: What color do you get when you mix blue and yellow?\n",
      "1. Orange\n",
      "2. Purple\n",
      "3. Red\n",
      "4. Green\n"
     ]
    },
    {
     "name": "stdin",
     "output_type": "stream",
     "text": [
      "Enter your answer (number) or 'q' to quit:  4\n"
     ]
    },
    {
     "name": "stdout",
     "output_type": "stream",
     "text": [
      "Correct!\n",
      "\n",
      "Your final score is: 13/13\n"
     ]
    }
   ],
   "source": [
    "import json\n",
    "\n",
    "def load_questions():\n",
    "    with open(\"questions.json\", \"r\") as file:\n",
    "        questions = json.load(file)\n",
    "    return questions\n",
    "\n",
    "def play_quiz():\n",
    "    questions = load_questions()\n",
    "    score = 0\n",
    "    for i, question in enumerate(questions, start=1):\n",
    "        print(f\"Question {i}/{len(questions)}: {question['question']}\")\n",
    "        for j, option in enumerate(question[\"options\"], start=1):\n",
    "            print(f\"{j}. {option}\")\n",
    "        \n",
    "        user_answer = input(\"Enter your answer (number) or 'q' to quit: \").lower()\n",
    "        if user_answer == 'q':\n",
    "            print(\"Quiz ended by the user.\")\n",
    "            return\n",
    "        elif user_answer.isdigit() and 1 <= int(user_answer) <= len(question[\"options\"]):\n",
    "            user_answer = question[\"options\"][int(user_answer) - 1]\n",
    "            if user_answer == question[\"answer\"]:\n",
    "                print(\"Correct!\")\n",
    "                score += 1\n",
    "            else:\n",
    "                print(f\"Incorrect. The correct answer is: {question['answer']}\")\n",
    "        else:\n",
    "            print(\"Invalid input. Please enter a number corresponding to the options or 'q' to quit.\")\n",
    "        print()\n",
    "    \n",
    "    print(f\"Your final score is: {score}/{len(questions)}\")\n",
    "\n",
    "# Start the quiz game\n",
    "play_quiz()"
   ]
  },
  {
   "cell_type": "code",
   "execution_count": null,
   "id": "dc88296a-b2ea-42e3-a416-e2124e4b756d",
   "metadata": {},
   "outputs": [],
   "source": []
  }
 ],
 "metadata": {
  "kernelspec": {
   "display_name": "Python 3 (ipykernel)",
   "language": "python",
   "name": "python3"
  },
  "language_info": {
   "codemirror_mode": {
    "name": "ipython",
    "version": 3
   },
   "file_extension": ".py",
   "mimetype": "text/x-python",
   "name": "python",
   "nbconvert_exporter": "python",
   "pygments_lexer": "ipython3",
   "version": "3.11.2"
  }
 },
 "nbformat": 4,
 "nbformat_minor": 5
}
